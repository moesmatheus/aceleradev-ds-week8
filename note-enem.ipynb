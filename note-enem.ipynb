{
 "cells": [
  {
   "cell_type": "code",
   "execution_count": 76,
   "metadata": {},
   "outputs": [
    {
     "name": "stdout",
     "output_type": "stream",
     "text": [
      "Collecting category_encoders\n",
      "  Downloading category_encoders-2.2.2-py2.py3-none-any.whl (80 kB)\n",
      "\u001b[K     |████████████████████████████████| 80 kB 1.3 MB/s eta 0:00:01\n",
      "\u001b[?25hCollecting patsy>=0.5.1\n",
      "  Using cached patsy-0.5.1-py2.py3-none-any.whl (231 kB)\n",
      "Requirement already satisfied: scipy>=1.0.0 in ./venv-enem/lib/python3.7/site-packages (from category_encoders) (1.4.1)\n",
      "Requirement already satisfied: pandas>=0.21.1 in ./venv-enem/lib/python3.7/site-packages (from category_encoders) (0.23.1)\n",
      "Requirement already satisfied: numpy>=1.14.0 in ./venv-enem/lib/python3.7/site-packages (from category_encoders) (1.14.5)\n",
      "Requirement already satisfied: scikit-learn>=0.20.0 in ./venv-enem/lib/python3.7/site-packages (from category_encoders) (0.23.1)\n",
      "Collecting statsmodels>=0.9.0\n",
      "  Using cached statsmodels-0.11.1-cp37-cp37m-macosx_10_13_x86_64.whl (8.4 MB)\n",
      "Requirement already satisfied: six in ./venv-enem/lib/python3.7/site-packages (from patsy>=0.5.1->category_encoders) (1.11.0)\n",
      "Requirement already satisfied: pytz>=2011k in ./venv-enem/lib/python3.7/site-packages (from pandas>=0.21.1->category_encoders) (2018.4)\n",
      "Requirement already satisfied: python-dateutil>=2.5.0 in ./venv-enem/lib/python3.7/site-packages (from pandas>=0.21.1->category_encoders) (2.7.3)\n",
      "Requirement already satisfied: threadpoolctl>=2.0.0 in ./venv-enem/lib/python3.7/site-packages (from scikit-learn>=0.20.0->category_encoders) (2.0.0)\n",
      "Requirement already satisfied: joblib>=0.11 in ./venv-enem/lib/python3.7/site-packages (from scikit-learn>=0.20.0->category_encoders) (0.15.1)\n",
      "Installing collected packages: patsy, statsmodels, category-encoders\n",
      "Successfully installed category-encoders-2.2.2 patsy-0.5.1 statsmodels-0.11.1\n"
     ]
    }
   ],
   "source": [
    "!pip install category_encoders"
   ]
  },
  {
   "cell_type": "code",
   "execution_count": 8,
   "metadata": {},
   "outputs": [],
   "source": [
    "import pandas as pd\n",
    "import numpy as np\n",
    "import seaborn as sns\n",
    "from matplotlib import pyplot as plt\n",
    "from sklearn.impute import SimpleImputer\n",
    "from sklearn.pipeline import Pipeline, make_pipeline\n",
    "from sklearn.compose import ColumnTransformer\n",
    "from sklearn.preprocessing import KBinsDiscretizer, OneHotEncoder, StandardScaler\n",
    "import pickle\n",
    "from category_encoders.cat_boost import CatBoostEncoder\n",
    "from tqdm import tqdm\n",
    "from sklearn.model_selection import train_test_split\n",
    "from sklearn.linear_model import LinearRegression\n",
    "from sklearn.metrics import mean_squared_error, mean_absolute_error, max_error, median_absolute_error"
   ]
  },
  {
   "cell_type": "code",
   "execution_count": 5,
   "metadata": {},
   "outputs": [],
   "source": [
    "import matplotlib.pyplot as plt\n",
    "plt.style.use(['dark_background'])"
   ]
  },
  {
   "cell_type": "code",
   "execution_count": 175,
   "metadata": {},
   "outputs": [
    {
     "name": "stdout",
     "output_type": "stream",
     "text": [
      "Train Shape: (13730, 165)\n",
      "Test Shape: (4576, 46)\n"
     ]
    }
   ],
   "source": [
    "train = pd.read_csv('train.csv', index_col=0, float_precision = 32).iloc[:,1:] # Remover coluna com código de inscrição\n",
    "print('Train Shape:', train.shape)\n",
    "\n",
    "test = pd.read_csv('test.csv').iloc[:,1:] # Remover coluna com código de inscrição\n",
    "print('Test Shape:', test.shape)"
   ]
  },
  {
   "cell_type": "markdown",
   "metadata": {},
   "source": [
    "# Pre process data"
   ]
  },
  {
   "cell_type": "code",
   "execution_count": 226,
   "metadata": {},
   "outputs": [],
   "source": [
    "def preProcess(path = None, df_ = None, train = True, save = False,\n",
    "               save_path = None, pipe_path = 'pipe.pkl'):\n",
    "    \n",
    "    # Read Data\n",
    "    if df_ is None:\n",
    "        df = pd.read_csv(path, index_col=0)\n",
    "        if path is None:\n",
    "            raise ValueError('Must Define path or DataFrame')\n",
    "    else:\n",
    "        df = df_.copy()\n",
    "         \n",
    "    # Drop when NU_NOTA_LC is null if train\n",
    "    df.dropna(subset = ['NU_NOTA_LC'], inplace = True)\n",
    "    \n",
    "    if train:\n",
    "        df.dropna(subset = ['NU_NOTA_CN', 'NU_NOTA_CH'], inplace = True)\n",
    "        \n",
    "        \n",
    "    # Create target data if train\n",
    "    if train:\n",
    "        try:\n",
    "            target = df['NU_NOTA_MT']\n",
    "        except:         \n",
    "            raise ValueError('Column NU_NOTA_MT missing from data')    \n",
    "    else:  \n",
    "        target = None\n",
    "            \n",
    "    \n",
    "    # Columns to select\n",
    "    cols_select = [\n",
    "            'SG_UF_RESIDENCIA', 'NU_IDADE', 'TP_SEXO', 'TP_COR_RACA',\n",
    "           'TP_NACIONALIDADE', 'TP_ST_CONCLUSAO', 'TP_ANO_CONCLUIU', 'TP_ENSINO',\n",
    "           'TP_DEPENDENCIA_ADM_ESC', 'CO_PROVA_CH', #'CO_PROVA_LC',\n",
    "            'CO_PROVA_MT',\n",
    "           'NU_NOTA_CN', 'NU_NOTA_CH', 'NU_NOTA_LC', 'TP_LINGUA',\n",
    "           'TP_STATUS_REDACAO', 'NU_NOTA_COMP1', 'NU_NOTA_COMP2', 'NU_NOTA_COMP3',\n",
    "           'NU_NOTA_COMP4', 'NU_NOTA_COMP5', 'NU_NOTA_REDACAO', 'Q001', 'Q002',\n",
    "           'Q006', 'Q024', 'Q025', 'Q026', 'Q027', 'Q047'\n",
    "                  ]\n",
    "    \n",
    "    # Select Columsn\n",
    "    try:      \n",
    "        df = df[cols_select]\n",
    "    except:    \n",
    "        raise ValueError('Column missing from data')\n",
    "        \n",
    "     \n",
    "    # Columns that have floats but are categorical\n",
    "#     cols_cat = [\n",
    "#         'TP_COR_RACA', 'TP_NACIONALIDADE', 'TP_ST_CONCLUSAO', 'TP_ENSINO', 'TP_DEPENDENCIA_ADM_ESC',\n",
    "#         'CO_PROVA_CH', 'CO_PROVA_MT',#'CO_PROVA_LC',\n",
    "#         'TP_STATUS_REDACAO'\n",
    "#                ]\n",
    "    \n",
    "\n",
    "    \n",
    "        \n",
    "    float_cols = [\n",
    "        'NU_NOTA_CN', 'NU_NOTA_CH', 'NU_NOTA_LC', 'NU_NOTA_COMP1','NU_NOTA_COMP2',\n",
    "        'NU_NOTA_COMP3', 'NU_NOTA_COMP4', 'NU_NOTA_COMP5','NU_NOTA_REDACAO',\n",
    "        'NU_IDADE', 'TP_ANO_CONCLUIU'\n",
    "    ]   \n",
    "        \n",
    "    # Create Pipeline floats\n",
    "    pipe_float = Pipeline([\n",
    "        ('inputer', SimpleImputer(strategy=\"median\")),\n",
    "        ('scaler', StandardScaler()),\n",
    "    ])\n",
    "    \n",
    "    # Create Pipeline Categorical Features\n",
    "    cat_cols = [\n",
    "        'SG_UF_RESIDENCIA', 'TP_SEXO', 'CO_PROVA_CH',#'CO_PROVA_LC',\n",
    "        'CO_PROVA_MT', 'Q001', 'Q002', 'Q006', 'Q024', 'Q025',\n",
    "       'Q026', 'Q027', 'Q047',\n",
    "        \n",
    "        'TP_COR_RACA', 'TP_NACIONALIDADE', 'TP_ST_CONCLUSAO', 'TP_ENSINO', 'TP_DEPENDENCIA_ADM_ESC',\n",
    "         'TP_STATUS_REDACAO',\n",
    "        'TP_LINGUA'\n",
    "    ]\n",
    "    \n",
    "    # Convert columns\n",
    "    df[cat_cols] = df[cat_cols].astype('object')\n",
    "    \n",
    "    pipe_cat = Pipeline([\n",
    "        ('label encoder', CatBoostEncoder())\n",
    "    ])\n",
    "    \n",
    "    # Create full pipeline\n",
    "    pipe = ColumnTransformer(transformers=[\n",
    "        ('pipe_float', pipe_float, float_cols),\n",
    "        ('pipe_cat', pipe_cat, cat_cols)\n",
    "    ]#, remainder = 'passthrough'\n",
    "                            )\n",
    "    \n",
    "    pipe_target = Pipeline(\n",
    "        [('scaler', StandardScaler())]\n",
    "    )\n",
    "    \n",
    "    \n",
    "    # Fit pipelines\n",
    "    if train:\n",
    "        \n",
    "        pipe.fit(df, target)\n",
    "        \n",
    "        pipe_target.fit(target.values.reshape(-1,1))\n",
    "        \n",
    "        with open(pipe_path, 'wb') as f:\n",
    "            \n",
    "            pickle.dump([pipe, pipe_target], f)\n",
    "            \n",
    "    else:\n",
    "        \n",
    "        with open(pipe_path, 'rb') as f:\n",
    "            \n",
    "            pipe, pipe_target = pickle.load(f)\n",
    "    \n",
    "    \n",
    "    # Transform variables\n",
    "    df = pipe.transform(df)\n",
    "    \n",
    "    if train:\n",
    "    \n",
    "        target = pipe_target.transform(target.values.reshape(-1,1))\n",
    "     \n",
    "    # Save file to pickle\n",
    "    if save_path is not None:\n",
    "        with open(save_path, 'wb') as f:\n",
    "            pickle.dump([df, target], f)\n",
    "        \n",
    "    return [df, target]"
   ]
  },
  {
   "cell_type": "code",
   "execution_count": 169,
   "metadata": {},
   "outputs": [
    {
     "data": {
      "text/plain": [
       "[array([[-5.29046160e-01, -4.75297934e-01,  9.42952705e-01, ...,\n",
       "          2.40000000e+01,  4.00000000e+00,  1.00000000e+00],\n",
       "        [ 8.26347525e-03,  1.87064802e-01,  1.20303752e+00, ...,\n",
       "          1.70000000e+01,  0.00000000e+00,  1.00000000e+00],\n",
       "        [-4.81222789e-01,  7.18859113e-01, -1.54538684e+00, ...,\n",
       "          1.80000000e+01,  1.00000000e+00,  0.00000000e+00],\n",
       "        ...,\n",
       "        [-1.88656286e-01, -1.96685365e-02,  7.69075778e-01, ...,\n",
       "          1.50000000e+01,  0.00000000e+00,  0.00000000e+00],\n",
       "        [-7.23152782e-01,  1.24249290e+00,  7.64692327e-01, ...,\n",
       "          3.60000000e+01,  0.00000000e+00,  1.00000000e+00],\n",
       "        [ 2.07996376e-01,  6.11412181e-01,  7.19396657e-01, ...,\n",
       "          1.70000000e+01,  0.00000000e+00,  0.00000000e+00]]),\n",
       " array([[-0.83515149],\n",
       "        [-0.22921785],\n",
       "        [-1.18526877],\n",
       "        ...,\n",
       "        [-0.84919631],\n",
       "        [-0.96356126],\n",
       "        [-0.53920708]])]"
      ]
     },
     "execution_count": 169,
     "metadata": {},
     "output_type": "execute_result"
    }
   ],
   "source": [
    "preProcess('train.csv', save_path='preprocessed.pkl')"
   ]
  },
  {
   "cell_type": "markdown",
   "metadata": {},
   "source": [
    "# Fit models"
   ]
  },
  {
   "cell_type": "code",
   "execution_count": 270,
   "metadata": {},
   "outputs": [],
   "source": []
  },
  {
   "cell_type": "code",
   "execution_count": 227,
   "metadata": {},
   "outputs": [],
   "source": [
    "def fit_models(features, target, models_path = 'models.pkl'):\n",
    "    \n",
    "    lm = LinearRegression()\n",
    "    \n",
    "    lm = lm.fit(X = features, y = target)\n",
    "    \n",
    "    # Store models\n",
    "    models = {'Linear Model': lm}\n",
    "    with open(models_path, 'wb') as f:\n",
    "        pickle.dump(models, f)\n",
    "        \n",
    "    return models"
   ]
  },
  {
   "cell_type": "code",
   "execution_count": 269,
   "metadata": {},
   "outputs": [],
   "source": [
    "def fit_model(model, x_train, x_test, y_train, y_test, **kwargs):\n",
    "    \n",
    "    model = model.fit(x_train, y_train, **kwargs)\n",
    "    \n",
    "    predictions = make_predictions_sigle(features = x_test, model = model)\n",
    "    \n",
    "    metrics, eval_predictions(target = y_test, predictions = predictions)\n",
    "    \n",
    "    return model, metrics"
   ]
  },
  {
   "cell_type": "code",
   "execution_count": 1,
   "metadata": {},
   "outputs": [],
   "source": [
    "from catboost import CatBoostRegressor, Pool\n",
    "from sklearn.decomposition import PCA\n",
    "from sklearn.model_selection import train_test_split\n",
    "from sklearn.metrics import mean_squared_error\n",
    "from sklearn.ensemble import RandomForestRegressor\n",
    "from sklearn.linear_model import LinearRegression, ElasticNet, ElasticNetCV\n",
    "from sklearn.svm import SVR\n",
    "from sklearn.kernel_ridge import KernelRidge\n",
    "from sklearn.model_selection import KFold, cross_val_score\n",
    "from sklearn.pipeline import make_pipeline\n",
    "from sklearn.base import clone\n",
    "\n",
    "from sklearn.linear_model import ElasticNetCV, LassoCV, RidgeCV\n",
    "from sklearn.ensemble import GradientBoostingRegressor\n",
    "\n",
    "from sklearn.pipeline import make_pipeline\n",
    "from sklearn.preprocessing import RobustScaler\n",
    "\n",
    "import warnings\n",
    "warnings.filterwarnings(\"ignore\")"
   ]
  },
  {
   "cell_type": "code",
   "execution_count": 329,
   "metadata": {},
   "outputs": [
    {
     "name": "stdout",
     "output_type": "stream",
     "text": [
      "Python 3.7.0\n"
     ]
    }
   ],
   "source": [
    "!python --version"
   ]
  },
  {
   "cell_type": "code",
   "execution_count": 314,
   "metadata": {},
   "outputs": [
    {
     "name": "stdout",
     "output_type": "stream",
     "text": [
      "Collecting numpy==1.18.1\n",
      "  Using cached numpy-1.18.1-cp37-cp37m-macosx_10_9_x86_64.whl (15.1 MB)\n",
      "Installing collected packages: numpy\n",
      "  Attempting uninstall: numpy\n",
      "    Found existing installation: numpy 1.16.1\n",
      "    Uninstalling numpy-1.16.1:\n",
      "      Successfully uninstalled numpy-1.16.1\n",
      "Successfully installed numpy-1.18.1\n"
     ]
    }
   ],
   "source": [
    "!pip install numpy==1.18.1"
   ]
  },
  {
   "cell_type": "code",
   "execution_count": 321,
   "metadata": {},
   "outputs": [
    {
     "name": "stdout",
     "output_type": "stream",
     "text": [
      "Collecting pandas==0.24.0\n",
      "  Downloading pandas-0.24.0-cp37-cp37m-macosx_10_6_intel.macosx_10_9_intel.macosx_10_9_x86_64.macosx_10_10_intel.macosx_10_10_x86_64.whl (15.9 MB)\n",
      "\u001b[K     |████████████████████████████████| 15.9 MB 6.8 MB/s eta 0:00:011     |███████████████████████████▎    | 13.5 MB 10.6 MB/s eta 0:00:01\n",
      "\u001b[?25hRequirement already satisfied: numpy>=1.12.0 in ./venv-enem/lib/python3.7/site-packages (from pandas==0.24.0) (1.18.1)\n",
      "Requirement already satisfied: pytz>=2011k in ./venv-enem/lib/python3.7/site-packages (from pandas==0.24.0) (2018.4)\n",
      "Requirement already satisfied: python-dateutil>=2.5.0 in ./venv-enem/lib/python3.7/site-packages (from pandas==0.24.0) (2.7.3)\n",
      "Requirement already satisfied: six>=1.5 in ./venv-enem/lib/python3.7/site-packages (from python-dateutil>=2.5.0->pandas==0.24.0) (1.11.0)\n",
      "Installing collected packages: pandas\n",
      "  Attempting uninstall: pandas\n",
      "    Found existing installation: pandas 0.25.3\n",
      "    Uninstalling pandas-0.25.3:\n",
      "      Successfully uninstalled pandas-0.25.3\n",
      "Successfully installed pandas-0.24.0\n"
     ]
    }
   ],
   "source": [
    "!pip install pandas==0.24.0"
   ]
  },
  {
   "cell_type": "code",
   "execution_count": 324,
   "metadata": {},
   "outputs": [
    {
     "name": "stdout",
     "output_type": "stream",
     "text": [
      "Requirement already satisfied: cycler==0.10 in ./venv-enem/lib/python3.7/site-packages (0.10.0)\n",
      "Requirement already satisfied: six in ./venv-enem/lib/python3.7/site-packages (from cycler==0.10) (1.11.0)\n"
     ]
    }
   ],
   "source": [
    "!pip install cycler==0.10"
   ]
  },
  {
   "cell_type": "code",
   "execution_count": 325,
   "metadata": {},
   "outputs": [
    {
     "name": "stdout",
     "output_type": "stream",
     "text": [
      "Collecting pytz==2017.2\n",
      "  Downloading pytz-2017.2-py2.py3-none-any.whl (484 kB)\n",
      "\u001b[K     |████████████████████████████████| 484 kB 1.3 MB/s eta 0:00:01\n",
      "\u001b[?25hInstalling collected packages: pytz\n",
      "  Attempting uninstall: pytz\n",
      "    Found existing installation: pytz 2018.4\n",
      "    Uninstalling pytz-2018.4:\n",
      "      Successfully uninstalled pytz-2018.4\n",
      "Successfully installed pytz-2017.2\n"
     ]
    }
   ],
   "source": [
    "!pip install pytz==2017.2"
   ]
  },
  {
   "cell_type": "code",
   "execution_count": 319,
   "metadata": {},
   "outputs": [
    {
     "name": "stdout",
     "output_type": "stream",
     "text": [
      "Collecting catboost\n",
      "  Using cached catboost-0.23.2-cp37-none-macosx_10_6_intel.macosx_10_9_intel.macosx_10_9_x86_64.macosx_10_10_intel.macosx_10_10_x86_64.whl (10.9 MB)\n",
      "Requirement already satisfied, skipping upgrade: matplotlib in ./venv-enem/lib/python3.7/site-packages (from catboost) (3.2.1)\n",
      "Requirement already satisfied, skipping upgrade: plotly in ./venv-enem/lib/python3.7/site-packages (from catboost) (4.8.1)\n",
      "Requirement already satisfied, skipping upgrade: graphviz in ./venv-enem/lib/python3.7/site-packages (from catboost) (0.14)\n",
      "Requirement already satisfied, skipping upgrade: pandas>=0.24.0 in ./venv-enem/lib/python3.7/site-packages (from catboost) (0.25.3)\n",
      "Requirement already satisfied, skipping upgrade: numpy>=1.16.0 in ./venv-enem/lib/python3.7/site-packages (from catboost) (1.18.1)\n",
      "Requirement already satisfied, skipping upgrade: scipy in ./venv-enem/lib/python3.7/site-packages (from catboost) (1.1.0)\n",
      "Requirement already satisfied, skipping upgrade: six in ./venv-enem/lib/python3.7/site-packages (from catboost) (1.11.0)\n",
      "Requirement already satisfied, skipping upgrade: cycler>=0.10 in ./venv-enem/lib/python3.7/site-packages (from matplotlib->catboost) (0.10.0)\n",
      "Requirement already satisfied, skipping upgrade: python-dateutil>=2.1 in ./venv-enem/lib/python3.7/site-packages (from matplotlib->catboost) (2.7.3)\n",
      "Requirement already satisfied, skipping upgrade: pyparsing!=2.0.4,!=2.1.2,!=2.1.6,>=2.0.1 in ./venv-enem/lib/python3.7/site-packages (from matplotlib->catboost) (2.4.7)\n",
      "Requirement already satisfied, skipping upgrade: kiwisolver>=1.0.1 in ./venv-enem/lib/python3.7/site-packages (from matplotlib->catboost) (1.2.0)\n",
      "Requirement already satisfied, skipping upgrade: retrying>=1.3.3 in ./venv-enem/lib/python3.7/site-packages (from plotly->catboost) (1.3.3)\n",
      "Requirement already satisfied, skipping upgrade: pytz>=2017.2 in ./venv-enem/lib/python3.7/site-packages (from pandas>=0.24.0->catboost) (2018.4)\n",
      "Installing collected packages: catboost\n",
      "  Attempting uninstall: catboost\n",
      "    Found existing installation: catboost 0.22\n",
      "    Uninstalling catboost-0.22:\n",
      "      Successfully uninstalled catboost-0.22\n",
      "Successfully installed catboost-0.23.2\n"
     ]
    }
   ],
   "source": [
    "!pip install catboost -U"
   ]
  },
  {
   "cell_type": "code",
   "execution_count": 333,
   "metadata": {},
   "outputs": [
    {
     "name": "stdout",
     "output_type": "stream",
     "text": [
      "Collecting scipy==1.1.0\n",
      "  Using cached scipy-1.1.0-cp37-cp37m-macosx_10_6_intel.macosx_10_9_intel.macosx_10_9_x86_64.macosx_10_10_intel.macosx_10_10_x86_64.whl (16.7 MB)\n",
      "Requirement already satisfied: numpy>=1.8.2 in ./venv-enem/lib/python3.7/site-packages (from scipy==1.1.0) (1.18.1)\n",
      "Installing collected packages: scipy\n",
      "  Attempting uninstall: scipy\n",
      "    Found existing installation: scipy 1.4.1\n",
      "    Uninstalling scipy-1.4.1:\n",
      "      Successfully uninstalled scipy-1.4.1\n",
      "Successfully installed scipy-1.1.0\n"
     ]
    }
   ],
   "source": [
    "!pip install scipy==1.1.0"
   ]
  },
  {
   "cell_type": "code",
   "execution_count": 308,
   "metadata": {},
   "outputs": [
    {
     "name": "stdout",
     "output_type": "stream",
     "text": [
      "Collecting cython==0.28.3\n",
      "  Downloading Cython-0.28.3-cp37-cp37m-macosx_10_6_intel.macosx_10_9_intel.macosx_10_9_x86_64.macosx_10_10_intel.macosx_10_10_x86_64.whl (5.3 MB)\n",
      "\u001b[K     |████████████████████████████████| 5.3 MB 1.3 MB/s eta 0:00:01\n",
      "\u001b[?25hInstalling collected packages: cython\n",
      "Successfully installed cython-0.28.3\n"
     ]
    }
   ],
   "source": [
    "!pip install cython==0.28.3"
   ]
  },
  {
   "cell_type": "code",
   "execution_count": 35,
   "metadata": {},
   "outputs": [],
   "source": [
    "def create_models(features, target, models_path = 'models.pkl', pipe_path = 'pipe.pkl', test_size = .25, ):\n",
    "    \n",
    "    models = {\n",
    "        'Linear Model': LinearRegression(), \n",
    "        'Catboost': CatBoostRegressor(\n",
    "            iterations = 500,\n",
    "            loss_function='RMSE',\n",
    "            random_state = 1,\n",
    "            learning_rate=0.01,\n",
    "            depth=4,\n",
    "            l2_leaf_reg=0.1,\n",
    "        \n",
    "            ),\n",
    "        'Random Forrest': RandomForestRegressor(n_estimators= 1000, max_depth = 8, random_state = 1),\n",
    "        \n",
    "    }\n",
    "    \n",
    "    kwargs = {i:{} for i in models}\n",
    "    kwargs['Catboost'] = {'verbose': 0}\n",
    "    \n",
    "    models_fit = {}\n",
    "    \n",
    "    metrics = {}\n",
    "    \n",
    "    x_train, x_test, y_train, y_test = train_test_split(features, target, test_size = test_size)\n",
    "    \n",
    "    with open(pipe_path, 'rb') as f:\n",
    "        \n",
    "        pipe, pipe_target = pickle.load(f)\n",
    "        \n",
    "    y_test = pipe_target.inverse_transform(y_test)\n",
    "    \n",
    "    for i in tqdm(models):\n",
    "        \n",
    "        print(f'>>>> {i}')\n",
    "        \n",
    "        models_fit[i] = models[i].fit(x_train, y_train, **kwargs[i])\n",
    "        \n",
    "        predictions = make_predictions_sigle(\n",
    "            model = models_fit[i], features = x_test, transform_back_target = True, pipe_path = pipe_path)\n",
    "        \n",
    "        metrics[i] = eval_predictions(y_test, predictions)\n",
    "        \n",
    "    with open(models_path, 'wb') as f:\n",
    "        \n",
    "        pickle.dump(obj = [models_fit, metrics], file = f)\n",
    "        \n",
    "    return [models_fit, metrics]"
   ]
  },
  {
   "cell_type": "code",
   "execution_count": 36,
   "metadata": {},
   "outputs": [
    {
     "name": "stderr",
     "output_type": "stream",
     "text": [
      "  0%|          | 0/3 [00:00<?, ?it/s]"
     ]
    },
    {
     "name": "stdout",
     "output_type": "stream",
     "text": [
      ">>>> Linear Model\n",
      "MSE: 5762.041\n",
      "RMSE: 75.908\n",
      "Max Error: 437.702\n",
      "Median Absolute Error: 437.702\n"
     ]
    },
    {
     "data": {
      "image/png": "[encoded data removed]",
      "text/plain": [
       "<Figure size 432x288 with 1 Axes>"
      ]
     },
     "metadata": {},
     "output_type": "display_data"
    },
    {
     "name": "stderr",
     "output_type": "stream",
     "text": [
      " 33%|███▎      | 1/3 [00:00<00:01,  1.88it/s]"
     ]
    },
    {
     "name": "stdout",
     "output_type": "stream",
     "text": [
      ">>>> Catboost\n",
      "MSE: 5607.656\n",
      "RMSE: 74.884\n",
      "Max Error: 444.673\n",
      "Median Absolute Error: 444.673\n"
     ]
    },
    {
     "data": {
      "image/png": "[encoded data removed]",
      "text/plain": [
       "<Figure size 432x288 with 1 Axes>"
      ]
     },
     "metadata": {},
     "output_type": "display_data"
    },
    {
     "name": "stderr",
     "output_type": "stream",
     "text": [
      " 67%|██████▋   | 2/3 [00:02<00:00,  1.14it/s]"
     ]
    },
    {
     "name": "stdout",
     "output_type": "stream",
     "text": [
      ">>>> Random Forrest\n",
      "MSE: 5568.325\n",
      "RMSE: 74.621\n",
      "Max Error: 451.078\n",
      "Median Absolute Error: 451.078\n"
     ]
    },
    {
     "data": {
      "image/png": "[encoded data removed]",
      "text/plain": [
       "<Figure size 432x288 with 1 Axes>"
      ]
     },
     "metadata": {},
     "output_type": "display_data"
    },
    {
     "name": "stderr",
     "output_type": "stream",
     "text": [
      "100%|██████████| 3/3 [00:29<00:00,  9.80s/it]\n"
     ]
    }
   ],
   "source": [
    "models, metrics = create_models(data, target)"
   ]
  },
  {
   "cell_type": "code",
   "execution_count": 80,
   "metadata": {},
   "outputs": [],
   "source": [
    "def train_wraper(file_path = 'train.csv', return_arg = False):\n",
    "    \n",
    "    features, target = preProcess(path = file_path)\n",
    "    \n",
    "    models, metrics = create_models(features, target)\n",
    "    \n",
    "    if return_arg:\n",
    "    \n",
    "        return models, metrics\n",
    "    \n",
    "    "
   ]
  },
  {
   "cell_type": "markdown",
   "metadata": {},
   "source": [
    "# Make Predictions"
   ]
  },
  {
   "cell_type": "code",
   "execution_count": 10,
   "metadata": {},
   "outputs": [],
   "source": [
    "# Make predictions for single model\n",
    "def make_predictions_sigle(features, model, pipe_path = 'pipe.pkl', transform_back_target = True):\n",
    "    \n",
    "    forecast = model.predict(features)\n",
    "    \n",
    "    with open(pipe_path, 'rb') as f:\n",
    "        \n",
    "        pipe, pipe_target = pickle.load(f)\n",
    "        \n",
    "    if transform_back_target:\n",
    "        \n",
    "        forecast = pipe_target.inverse_transform(forecast)\n",
    "    \n",
    "    return forecast\n",
    "    \n",
    "    "
   ]
  },
  {
   "cell_type": "code",
   "execution_count": 58,
   "metadata": {},
   "outputs": [],
   "source": [
    "def predictions_ensemble(features, models, metrics = None, ensamble_method = None, pipe_path = 'pipe.pkl'):\n",
    "    predictions = {}\n",
    "    \n",
    "    for i in models:\n",
    "        \n",
    "        predictions[i] = make_predictions_sigle(features, models[i], pipe_path = 'pipe.pkl', transform_back_target = True)\n",
    "        \n",
    "    if ensamble_method is not None:\n",
    "        \n",
    "        predictions = ensamble_method(predictions)\n",
    "        \n",
    "    return predictions\n",
    "    "
   ]
  },
  {
   "cell_type": "code",
   "execution_count": 72,
   "metadata": {},
   "outputs": [],
   "source": [
    "def ensamble_method(predictions):\n",
    "    \n",
    "    for i in predictions:\n",
    "        \n",
    "        if len(predictions[i].shape) > 1:\n",
    "            \n",
    "            predictions[i] = predictions[i].reshape(-1)\n",
    "    \n",
    "    return pd.DataFrame(predictions).mean(axis = 1)\n",
    "    "
   ]
  },
  {
   "cell_type": "code",
   "execution_count": 73,
   "metadata": {},
   "outputs": [],
   "source": [
    "p = predictions_ensemble(data, models, ensamble_method=ensamble_method)"
   ]
  },
  {
   "cell_type": "code",
   "execution_count": 50,
   "metadata": {},
   "outputs": [],
   "source": []
  },
  {
   "cell_type": "markdown",
   "metadata": {},
   "source": [
    "# Eval Predictions"
   ]
  },
  {
   "cell_type": "code",
   "execution_count": 12,
   "metadata": {},
   "outputs": [],
   "source": [
    "def eval_predictions(target, predictions, verbose = True, plot = True):\n",
    "    \n",
    "    out = {}\n",
    "    \n",
    "    out['MSE'] = mean_squared_error(target, predictions)\n",
    "    \n",
    "    out['RMSE'] = out['MSE'] ** 0.5\n",
    "    \n",
    "    out['MAE'] = mean_squared_error(target, predictions)\n",
    "    \n",
    "    out['Max Error'] = max_error(target, predictions)\n",
    "    \n",
    "    out['Median Absolute Error'] = median_absolute_error(target, predictions)\n",
    "    \n",
    "    if verbose:\n",
    "        \n",
    "        print(f'MSE: {round(out[\"MSE\"],3)}')\n",
    "        print(f'RMSE: {round(out[\"RMSE\"],3)}')\n",
    "        print(f'Max Error: {round(out[\"Max Error\"],3)}')\n",
    "        print(f'Median Absolute Error: {round(out[\"Max Error\"],3)}')\n",
    "        \n",
    "    if plot:\n",
    "        \n",
    "        ax = sns.regplot(x = predictions.reshape(-1), y = target.reshape(-1), )\n",
    "        \n",
    "        ax.set(xlabel='Predictions', ylabel='Target Value')\n",
    "        \n",
    "        plt.show()\n",
    "    \n",
    "    \n",
    "    return out"
   ]
  },
  {
   "cell_type": "markdown",
   "metadata": {},
   "source": [
    "# Make full predictions"
   ]
  },
  {
   "cell_type": "code",
   "execution_count": 184,
   "metadata": {},
   "outputs": [],
   "source": [
    "def make_predictions_wraper(file_path = 'test.csv', df_ = None, return_predictions = False, save_name = None):\n",
    "    \n",
    "    # Select the ones who missed the test\n",
    "    if df_ is None:\n",
    "        df = pd.read_csv(file_path, index_col='NU_INSCRICAO')\n",
    "    else:\n",
    "        df = df_.copy()\n",
    "\n",
    "    zeros = df.isnull().query('NU_NOTA_LC')[[]]\n",
    "    zeros['NU_NOTA_MT'] = 0\n",
    "    \n",
    "    # Get ID of columns to be predicted\n",
    "    predictions = df[['NU_NOTA_LC']].dropna()[[]]#.index\n",
    "    \n",
    "    # Load data\n",
    "    if df_ is None:\n",
    "        features, pipe = preProcess(path = file_path, train = False)\n",
    "    else:\n",
    "        features, pipe = preProcess(df_ = df_, train = False)\n",
    "    \n",
    "    # Load models\n",
    "    try:\n",
    "\n",
    "        with open('models.pkl', 'rb') as f:\n",
    "            models, metrics = pickle.load(f)\n",
    "    except:\n",
    "\n",
    "        raise ValueError('Model File Missing')\n",
    "    \n",
    "    # Make predictions\n",
    "    predictions['NU_NOTA_MT'] = predictions_ensemble(features, models, ensamble_method = ensamble_method).values\n",
    "    \n",
    "    predictions_full = pd.concat([zeros, predictions])\n",
    "    \n",
    "    if save_name is not None:\n",
    "        \n",
    "        predictions_full.to_csv(save_name)\n",
    "        \n",
    "    if return_predictions:\n",
    "    \n",
    "        return predictions_full"
   ]
  },
  {
   "cell_type": "code",
   "execution_count": 160,
   "metadata": {},
   "outputs": [],
   "source": [
    "file_path = 'test.csv'\n",
    "make_predictions_wraper(save_name = 'answer.csv')\n"
   ]
  },
  {
   "cell_type": "code",
   "execution_count": 13,
   "metadata": {},
   "outputs": [],
   "source": [
    "data, target = preProcess(path = 'train.csv')"
   ]
  },
  {
   "cell_type": "code",
   "execution_count": 197,
   "metadata": {},
   "outputs": [],
   "source": [
    "data, target = preProcess(path = 'train.csv', train = False)"
   ]
  },
  {
   "cell_type": "code",
   "execution_count": 215,
   "metadata": {},
   "outputs": [],
   "source": [
    "models = fit_models(data, target)"
   ]
  },
  {
   "cell_type": "code",
   "execution_count": 219,
   "metadata": {},
   "outputs": [
    {
     "data": {
      "text/plain": [
       "<bound method LinearModel.predict of LinearRegression()>"
      ]
     },
     "execution_count": 219,
     "metadata": {},
     "output_type": "execute_result"
    }
   ],
   "source": [
    "models[0].predict"
   ]
  },
  {
   "cell_type": "code",
   "execution_count": 233,
   "metadata": {},
   "outputs": [],
   "source": [
    "pred = make_predictions_sigle(data, models[0])"
   ]
  },
  {
   "cell_type": "code",
   "execution_count": null,
   "metadata": {},
   "outputs": [],
   "source": []
  },
  {
   "cell_type": "code",
   "execution_count": 181,
   "metadata": {},
   "outputs": [
    {
     "data": {
      "text/plain": [
       "True"
      ]
     },
     "execution_count": 181,
     "metadata": {},
     "output_type": "execute_result"
    }
   ],
   "source": [
    "train['NU_IDADE'].dtype == 'int64'"
   ]
  },
  {
   "cell_type": "code",
   "execution_count": 182,
   "metadata": {},
   "outputs": [
    {
     "data": {
      "text/plain": [
       "13"
      ]
     },
     "execution_count": 182,
     "metadata": {},
     "output_type": "execute_result"
    }
   ],
   "source": [
    "int(train['NU_IDADE'].min())"
   ]
  },
  {
   "cell_type": "code",
   "execution_count": 183,
   "metadata": {},
   "outputs": [
    {
     "data": {
      "text/plain": [
       "(10097, 31)"
      ]
     },
     "execution_count": 183,
     "metadata": {},
     "output_type": "execute_result"
    }
   ],
   "source": [
    "data.shape"
   ]
  },
  {
   "cell_type": "code",
   "execution_count": 191,
   "metadata": {},
   "outputs": [
    {
     "data": {
      "text/plain": [
       "2       1.0\n",
       "7       1.0\n",
       "9       1.0\n",
       "12      1.0\n",
       "18      1.0\n",
       "21      1.0\n",
       "28      3.0\n",
       "29      1.0\n",
       "32      1.0\n",
       "33      1.0\n",
       "34      1.0\n",
       "36      1.0\n",
       "37      1.0\n",
       "38      1.0\n",
       "43      1.0\n",
       "44      1.0\n",
       "47      1.0\n",
       "50      1.0\n",
       "55      1.0\n",
       "62      1.0\n",
       "66      1.0\n",
       "69      1.0\n",
       "76      1.0\n",
       "77      1.0\n",
       "78      1.0\n",
       "84      1.0\n",
       "87      1.0\n",
       "89      1.0\n",
       "93      1.0\n",
       "96      1.0\n",
       "       ... \n",
       "4495    1.0\n",
       "4505    1.0\n",
       "4506    1.0\n",
       "4512    1.0\n",
       "4513    1.0\n",
       "4517    1.0\n",
       "4519    1.0\n",
       "4522    1.0\n",
       "4524    1.0\n",
       "4525    1.0\n",
       "4528    1.0\n",
       "4529    1.0\n",
       "4535    1.0\n",
       "4537    1.0\n",
       "4541    1.0\n",
       "4542    2.0\n",
       "4545    1.0\n",
       "4546    1.0\n",
       "4548    1.0\n",
       "4551    1.0\n",
       "4552    3.0\n",
       "4557    1.0\n",
       "4558    1.0\n",
       "4563    1.0\n",
       "4564    1.0\n",
       "4571    1.0\n",
       "4574    1.0\n",
       "4577    1.0\n",
       "4578    1.0\n",
       "4586    1.0\n",
       "Name: TP_ENSINO, Length: 4282, dtype: float64"
      ]
     },
     "execution_count": 191,
     "metadata": {},
     "output_type": "execute_result"
    }
   ],
   "source": [
    "train['TP_ENSINO'].astype()"
   ]
  },
  {
   "cell_type": "code",
   "execution_count": 202,
   "metadata": {},
   "outputs": [],
   "source": [
    "float_cols = [\n",
    "        'NU_NOTA_CN', 'NU_NOTA_CH', 'NU_NOTA_LC', 'NU_NOTA_COMP1','NU_NOTA_COMP2',\n",
    "        'NU_NOTA_COMP3', 'NU_NOTA_COMP4', 'NU_NOTA_COMP5','NU_NOTA_REDACAO',\n",
    "        'NU_IDADE', 'TP_ANO_CONCLUIU'\n",
    "    ]  "
   ]
  },
  {
   "cell_type": "code",
   "execution_count": 203,
   "metadata": {},
   "outputs": [],
   "source": [
    "cat_cols = [\n",
    "        'SG_UF_RESIDENCIA', 'TP_SEXO', 'CO_PROVA_CH','CO_PROVA_LC',\n",
    "        'CO_PROVA_MT', 'Q001', 'Q002', 'Q006', 'Q024', 'Q025',\n",
    "       'Q026', 'Q027', 'Q047',\n",
    "        \n",
    "        'TP_COR_RACA', 'TP_NACIONALIDADE', 'TP_ST_CONCLUSAO', 'TP_ENSINO', 'TP_DEPENDENCIA_ADM_ESC',\n",
    "         'TP_STATUS_REDACAO'\n",
    "    ]"
   ]
  },
  {
   "cell_type": "code",
   "execution_count": 204,
   "metadata": {},
   "outputs": [
    {
     "data": {
      "text/plain": [
       "30"
      ]
     },
     "execution_count": 204,
     "metadata": {},
     "output_type": "execute_result"
    }
   ],
   "source": [
    "len(float_cols) + len(cat_cols)"
   ]
  },
  {
   "cell_type": "code",
   "execution_count": 205,
   "metadata": {},
   "outputs": [],
   "source": [
    "cols_select = [\n",
    "            'SG_UF_RESIDENCIA', 'NU_IDADE', 'TP_SEXO', 'TP_COR_RACA',\n",
    "           'TP_NACIONALIDADE', 'TP_ST_CONCLUSAO', 'TP_ANO_CONCLUIU', 'TP_ENSINO',\n",
    "           'TP_DEPENDENCIA_ADM_ESC', 'CO_PROVA_CH', #'CO_PROVA_LC', \n",
    "            'CO_PROVA_MT',\n",
    "           'NU_NOTA_CN', 'NU_NOTA_CH', 'NU_NOTA_LC', 'TP_LINGUA',\n",
    "           'TP_STATUS_REDACAO', 'NU_NOTA_COMP1', 'NU_NOTA_COMP2', 'NU_NOTA_COMP3',\n",
    "           'NU_NOTA_COMP4', 'NU_NOTA_COMP5', 'NU_NOTA_REDACAO', 'Q001', 'Q002',\n",
    "           'Q006', 'Q024', 'Q025', 'Q026', 'Q027', 'Q047'\n",
    "                  ]"
   ]
  },
  {
   "cell_type": "code",
   "execution_count": 206,
   "metadata": {},
   "outputs": [
    {
     "data": {
      "text/plain": [
       "30"
      ]
     },
     "execution_count": 206,
     "metadata": {},
     "output_type": "execute_result"
    }
   ],
   "source": [
    "len(cols_select)"
   ]
  },
  {
   "cell_type": "code",
   "execution_count": 195,
   "metadata": {},
   "outputs": [
    {
     "data": {
      "text/plain": [
       "1"
      ]
     },
     "execution_count": 195,
     "metadata": {},
     "output_type": "execute_result"
    }
   ],
   "source": [
    "train['TP_ENSINO'].tolist().index(1)"
   ]
  },
  {
   "cell_type": "code",
   "execution_count": 222,
   "metadata": {},
   "outputs": [
    {
     "ename": "ValueError",
     "evalue": "Index NU_INSCRICAO invalid",
     "output_type": "error",
     "traceback": [
      "\u001b[0;31m---------------------------------------------------------------------------\u001b[0m",
      "\u001b[0;31mValueError\u001b[0m                                Traceback (most recent call last)",
      "\u001b[0;32m<ipython-input-222-8217dc7a04cd>\u001b[0m in \u001b[0;36m<module>\u001b[0;34m()\u001b[0m\n\u001b[0;32m----> 1\u001b[0;31m \u001b[0mmake_predictions_wraper\u001b[0m\u001b[0;34m(\u001b[0m\u001b[0mfile_path\u001b[0m\u001b[0;34m=\u001b[0m\u001b[0;34m'st.csv'\u001b[0m\u001b[0;34m)\u001b[0m\u001b[0;34m\u001b[0m\u001b[0m\n\u001b[0m",
      "\u001b[0;32m<ipython-input-184-ef002b8e1b95>\u001b[0m in \u001b[0;36mmake_predictions_wraper\u001b[0;34m(file_path, df_, return_predictions, save_name)\u001b[0m\n\u001b[1;32m      3\u001b[0m     \u001b[0;31m# Select the ones who missed the test\u001b[0m\u001b[0;34m\u001b[0m\u001b[0;34m\u001b[0m\u001b[0m\n\u001b[1;32m      4\u001b[0m     \u001b[0;32mif\u001b[0m \u001b[0mdf_\u001b[0m \u001b[0;32mis\u001b[0m \u001b[0;32mNone\u001b[0m\u001b[0;34m:\u001b[0m\u001b[0;34m\u001b[0m\u001b[0m\n\u001b[0;32m----> 5\u001b[0;31m         \u001b[0mdf\u001b[0m \u001b[0;34m=\u001b[0m \u001b[0mpd\u001b[0m\u001b[0;34m.\u001b[0m\u001b[0mread_csv\u001b[0m\u001b[0;34m(\u001b[0m\u001b[0mfile_path\u001b[0m\u001b[0;34m,\u001b[0m \u001b[0mindex_col\u001b[0m\u001b[0;34m=\u001b[0m\u001b[0;34m'NU_INSCRICAO'\u001b[0m\u001b[0;34m)\u001b[0m\u001b[0;34m\u001b[0m\u001b[0m\n\u001b[0m\u001b[1;32m      6\u001b[0m     \u001b[0;32melse\u001b[0m\u001b[0;34m:\u001b[0m\u001b[0;34m\u001b[0m\u001b[0m\n\u001b[1;32m      7\u001b[0m         \u001b[0mdf\u001b[0m \u001b[0;34m=\u001b[0m \u001b[0mdf_\u001b[0m\u001b[0;34m.\u001b[0m\u001b[0mcopy\u001b[0m\u001b[0;34m(\u001b[0m\u001b[0;34m)\u001b[0m\u001b[0;34m\u001b[0m\u001b[0m\n",
      "\u001b[0;32m~/codenation/enem-2/venv-enem/lib/python3.7/site-packages/pandas/io/parsers.py\u001b[0m in \u001b[0;36mparser_f\u001b[0;34m(filepath_or_buffer, sep, delimiter, header, names, index_col, usecols, squeeze, prefix, mangle_dupe_cols, dtype, engine, converters, true_values, false_values, skipinitialspace, skiprows, skipfooter, nrows, na_values, keep_default_na, na_filter, verbose, skip_blank_lines, parse_dates, infer_datetime_format, keep_date_col, date_parser, dayfirst, iterator, chunksize, compression, thousands, decimal, lineterminator, quotechar, quoting, doublequote, escapechar, comment, encoding, dialect, tupleize_cols, error_bad_lines, warn_bad_lines, delim_whitespace, low_memory, memory_map, float_precision)\u001b[0m\n\u001b[1;32m    695\u001b[0m                     skip_blank_lines=skip_blank_lines)\n\u001b[1;32m    696\u001b[0m \u001b[0;34m\u001b[0m\u001b[0m\n\u001b[0;32m--> 697\u001b[0;31m         \u001b[0;32mreturn\u001b[0m \u001b[0m_read\u001b[0m\u001b[0;34m(\u001b[0m\u001b[0mfilepath_or_buffer\u001b[0m\u001b[0;34m,\u001b[0m \u001b[0mkwds\u001b[0m\u001b[0;34m)\u001b[0m\u001b[0;34m\u001b[0m\u001b[0m\n\u001b[0m\u001b[1;32m    698\u001b[0m \u001b[0;34m\u001b[0m\u001b[0m\n\u001b[1;32m    699\u001b[0m     \u001b[0mparser_f\u001b[0m\u001b[0;34m.\u001b[0m\u001b[0m__name__\u001b[0m \u001b[0;34m=\u001b[0m \u001b[0mname\u001b[0m\u001b[0;34m\u001b[0m\u001b[0m\n",
      "\u001b[0;32m~/codenation/enem-2/venv-enem/lib/python3.7/site-packages/pandas/io/parsers.py\u001b[0m in \u001b[0;36m_read\u001b[0;34m(filepath_or_buffer, kwds)\u001b[0m\n\u001b[1;32m    428\u001b[0m \u001b[0;34m\u001b[0m\u001b[0m\n\u001b[1;32m    429\u001b[0m     \u001b[0;32mtry\u001b[0m\u001b[0;34m:\u001b[0m\u001b[0;34m\u001b[0m\u001b[0m\n\u001b[0;32m--> 430\u001b[0;31m         \u001b[0mdata\u001b[0m \u001b[0;34m=\u001b[0m \u001b[0mparser\u001b[0m\u001b[0;34m.\u001b[0m\u001b[0mread\u001b[0m\u001b[0;34m(\u001b[0m\u001b[0mnrows\u001b[0m\u001b[0;34m)\u001b[0m\u001b[0;34m\u001b[0m\u001b[0m\n\u001b[0m\u001b[1;32m    431\u001b[0m     \u001b[0;32mfinally\u001b[0m\u001b[0;34m:\u001b[0m\u001b[0;34m\u001b[0m\u001b[0m\n\u001b[1;32m    432\u001b[0m         \u001b[0mparser\u001b[0m\u001b[0;34m.\u001b[0m\u001b[0mclose\u001b[0m\u001b[0;34m(\u001b[0m\u001b[0;34m)\u001b[0m\u001b[0;34m\u001b[0m\u001b[0m\n",
      "\u001b[0;32m~/codenation/enem-2/venv-enem/lib/python3.7/site-packages/pandas/io/parsers.py\u001b[0m in \u001b[0;36mread\u001b[0;34m(self, nrows)\u001b[0m\n\u001b[1;32m   1132\u001b[0m     \u001b[0;32mdef\u001b[0m \u001b[0mread\u001b[0m\u001b[0;34m(\u001b[0m\u001b[0mself\u001b[0m\u001b[0;34m,\u001b[0m \u001b[0mnrows\u001b[0m\u001b[0;34m=\u001b[0m\u001b[0;32mNone\u001b[0m\u001b[0;34m)\u001b[0m\u001b[0;34m:\u001b[0m\u001b[0;34m\u001b[0m\u001b[0m\n\u001b[1;32m   1133\u001b[0m         \u001b[0mnrows\u001b[0m \u001b[0;34m=\u001b[0m \u001b[0m_validate_integer\u001b[0m\u001b[0;34m(\u001b[0m\u001b[0;34m'nrows'\u001b[0m\u001b[0;34m,\u001b[0m \u001b[0mnrows\u001b[0m\u001b[0;34m)\u001b[0m\u001b[0;34m\u001b[0m\u001b[0m\n\u001b[0;32m-> 1134\u001b[0;31m         \u001b[0mret\u001b[0m \u001b[0;34m=\u001b[0m \u001b[0mself\u001b[0m\u001b[0;34m.\u001b[0m\u001b[0m_engine\u001b[0m\u001b[0;34m.\u001b[0m\u001b[0mread\u001b[0m\u001b[0;34m(\u001b[0m\u001b[0mnrows\u001b[0m\u001b[0;34m)\u001b[0m\u001b[0;34m\u001b[0m\u001b[0m\n\u001b[0m\u001b[1;32m   1135\u001b[0m \u001b[0;34m\u001b[0m\u001b[0m\n\u001b[1;32m   1136\u001b[0m         \u001b[0;31m# May alter columns / col_dict\u001b[0m\u001b[0;34m\u001b[0m\u001b[0;34m\u001b[0m\u001b[0m\n",
      "\u001b[0;32m~/codenation/enem-2/venv-enem/lib/python3.7/site-packages/pandas/io/parsers.py\u001b[0m in \u001b[0;36mread\u001b[0;34m(self, nrows)\u001b[0m\n\u001b[1;32m   2062\u001b[0m \u001b[0;34m\u001b[0m\u001b[0m\n\u001b[1;32m   2063\u001b[0m             \u001b[0mnames\u001b[0m\u001b[0;34m,\u001b[0m \u001b[0mdata\u001b[0m \u001b[0;34m=\u001b[0m \u001b[0mself\u001b[0m\u001b[0;34m.\u001b[0m\u001b[0m_do_date_conversions\u001b[0m\u001b[0;34m(\u001b[0m\u001b[0mnames\u001b[0m\u001b[0;34m,\u001b[0m \u001b[0mdata\u001b[0m\u001b[0;34m)\u001b[0m\u001b[0;34m\u001b[0m\u001b[0m\n\u001b[0;32m-> 2064\u001b[0;31m             \u001b[0mindex\u001b[0m\u001b[0;34m,\u001b[0m \u001b[0mnames\u001b[0m \u001b[0;34m=\u001b[0m \u001b[0mself\u001b[0m\u001b[0;34m.\u001b[0m\u001b[0m_make_index\u001b[0m\u001b[0;34m(\u001b[0m\u001b[0mdata\u001b[0m\u001b[0;34m,\u001b[0m \u001b[0malldata\u001b[0m\u001b[0;34m,\u001b[0m \u001b[0mnames\u001b[0m\u001b[0;34m)\u001b[0m\u001b[0;34m\u001b[0m\u001b[0m\n\u001b[0m\u001b[1;32m   2065\u001b[0m \u001b[0;34m\u001b[0m\u001b[0m\n\u001b[1;32m   2066\u001b[0m         \u001b[0;31m# maybe create a mi on the columns\u001b[0m\u001b[0;34m\u001b[0m\u001b[0;34m\u001b[0m\u001b[0m\n",
      "\u001b[0;32m~/codenation/enem-2/venv-enem/lib/python3.7/site-packages/pandas/io/parsers.py\u001b[0m in \u001b[0;36m_make_index\u001b[0;34m(self, data, alldata, columns, indexnamerow)\u001b[0m\n\u001b[1;32m   1534\u001b[0m \u001b[0;34m\u001b[0m\u001b[0m\n\u001b[1;32m   1535\u001b[0m         \u001b[0;32melif\u001b[0m \u001b[0;32mnot\u001b[0m \u001b[0mself\u001b[0m\u001b[0;34m.\u001b[0m\u001b[0m_has_complex_date_col\u001b[0m\u001b[0;34m:\u001b[0m\u001b[0;34m\u001b[0m\u001b[0m\n\u001b[0;32m-> 1536\u001b[0;31m             \u001b[0mindex\u001b[0m \u001b[0;34m=\u001b[0m \u001b[0mself\u001b[0m\u001b[0;34m.\u001b[0m\u001b[0m_get_simple_index\u001b[0m\u001b[0;34m(\u001b[0m\u001b[0malldata\u001b[0m\u001b[0;34m,\u001b[0m \u001b[0mcolumns\u001b[0m\u001b[0;34m)\u001b[0m\u001b[0;34m\u001b[0m\u001b[0m\n\u001b[0m\u001b[1;32m   1537\u001b[0m             \u001b[0mindex\u001b[0m \u001b[0;34m=\u001b[0m \u001b[0mself\u001b[0m\u001b[0;34m.\u001b[0m\u001b[0m_agg_index\u001b[0m\u001b[0;34m(\u001b[0m\u001b[0mindex\u001b[0m\u001b[0;34m)\u001b[0m\u001b[0;34m\u001b[0m\u001b[0m\n\u001b[1;32m   1538\u001b[0m         \u001b[0;32melif\u001b[0m \u001b[0mself\u001b[0m\u001b[0;34m.\u001b[0m\u001b[0m_has_complex_date_col\u001b[0m\u001b[0;34m:\u001b[0m\u001b[0;34m\u001b[0m\u001b[0m\n",
      "\u001b[0;32m~/codenation/enem-2/venv-enem/lib/python3.7/site-packages/pandas/io/parsers.py\u001b[0m in \u001b[0;36m_get_simple_index\u001b[0;34m(self, data, columns)\u001b[0m\n\u001b[1;32m   1567\u001b[0m         \u001b[0mindex\u001b[0m \u001b[0;34m=\u001b[0m \u001b[0;34m[\u001b[0m\u001b[0;34m]\u001b[0m\u001b[0;34m\u001b[0m\u001b[0m\n\u001b[1;32m   1568\u001b[0m         \u001b[0;32mfor\u001b[0m \u001b[0midx\u001b[0m \u001b[0;32min\u001b[0m \u001b[0mself\u001b[0m\u001b[0;34m.\u001b[0m\u001b[0mindex_col\u001b[0m\u001b[0;34m:\u001b[0m\u001b[0;34m\u001b[0m\u001b[0m\n\u001b[0;32m-> 1569\u001b[0;31m             \u001b[0mi\u001b[0m \u001b[0;34m=\u001b[0m \u001b[0mix\u001b[0m\u001b[0;34m(\u001b[0m\u001b[0midx\u001b[0m\u001b[0;34m)\u001b[0m\u001b[0;34m\u001b[0m\u001b[0m\n\u001b[0m\u001b[1;32m   1570\u001b[0m             \u001b[0mto_remove\u001b[0m\u001b[0;34m.\u001b[0m\u001b[0mappend\u001b[0m\u001b[0;34m(\u001b[0m\u001b[0mi\u001b[0m\u001b[0;34m)\u001b[0m\u001b[0;34m\u001b[0m\u001b[0m\n\u001b[1;32m   1571\u001b[0m             \u001b[0mindex\u001b[0m\u001b[0;34m.\u001b[0m\u001b[0mappend\u001b[0m\u001b[0;34m(\u001b[0m\u001b[0mdata\u001b[0m\u001b[0;34m[\u001b[0m\u001b[0mi\u001b[0m\u001b[0;34m]\u001b[0m\u001b[0;34m)\u001b[0m\u001b[0;34m\u001b[0m\u001b[0m\n",
      "\u001b[0;32m~/codenation/enem-2/venv-enem/lib/python3.7/site-packages/pandas/io/parsers.py\u001b[0m in \u001b[0;36mix\u001b[0;34m(col)\u001b[0m\n\u001b[1;32m   1562\u001b[0m             \u001b[0;32mif\u001b[0m \u001b[0;32mnot\u001b[0m \u001b[0misinstance\u001b[0m\u001b[0;34m(\u001b[0m\u001b[0mcol\u001b[0m\u001b[0;34m,\u001b[0m \u001b[0mcompat\u001b[0m\u001b[0;34m.\u001b[0m\u001b[0mstring_types\u001b[0m\u001b[0;34m)\u001b[0m\u001b[0;34m:\u001b[0m\u001b[0;34m\u001b[0m\u001b[0m\n\u001b[1;32m   1563\u001b[0m                 \u001b[0;32mreturn\u001b[0m \u001b[0mcol\u001b[0m\u001b[0;34m\u001b[0m\u001b[0m\n\u001b[0;32m-> 1564\u001b[0;31m             \u001b[0;32mraise\u001b[0m \u001b[0mValueError\u001b[0m\u001b[0;34m(\u001b[0m\u001b[0;34m'Index %s invalid'\u001b[0m \u001b[0;34m%\u001b[0m \u001b[0mcol\u001b[0m\u001b[0;34m)\u001b[0m\u001b[0;34m\u001b[0m\u001b[0m\n\u001b[0m\u001b[1;32m   1565\u001b[0m \u001b[0;34m\u001b[0m\u001b[0m\n\u001b[1;32m   1566\u001b[0m         \u001b[0mto_remove\u001b[0m \u001b[0;34m=\u001b[0m \u001b[0;34m[\u001b[0m\u001b[0;34m]\u001b[0m\u001b[0;34m\u001b[0m\u001b[0m\n",
      "\u001b[0;31mValueError\u001b[0m: Index NU_INSCRICAO invalid"
     ]
    }
   ],
   "source": [
    "make_predictions_wraper(file_path='st.csv')"
   ]
  },
  {
   "cell_type": "code",
   "execution_count": 212,
   "metadata": {},
   "outputs": [
    {
     "data": {
      "text/plain": [
       "[array([[-5.29046160e-01, -4.75297934e-01,  9.42952705e-01, ...,\n",
       "          2.40000000e+01,  4.00000000e+00,  1.00000000e+00],\n",
       "        [ 8.26347525e-03,  1.87064802e-01,  1.20303752e+00, ...,\n",
       "          1.70000000e+01,  0.00000000e+00,  1.00000000e+00],\n",
       "        [-4.81222789e-01,  7.18859113e-01, -1.54538684e+00, ...,\n",
       "          1.80000000e+01,  1.00000000e+00,  0.00000000e+00],\n",
       "        ...,\n",
       "        [-1.88656286e-01, -1.96685365e-02,  7.69075778e-01, ...,\n",
       "          1.50000000e+01,  0.00000000e+00,  0.00000000e+00],\n",
       "        [-7.23152782e-01,  1.24249290e+00,  7.64692327e-01, ...,\n",
       "          3.60000000e+01,  0.00000000e+00,  1.00000000e+00],\n",
       "        [ 2.07996376e-01,  6.11412181e-01,  7.19396657e-01, ...,\n",
       "          1.70000000e+01,  0.00000000e+00,  0.00000000e+00]]),\n",
       " array([[-0.83515149],\n",
       "        [-0.22921785],\n",
       "        [-1.18526877],\n",
       "        ...,\n",
       "        [-0.84919631],\n",
       "        [-0.96356126],\n",
       "        [-0.53920708]])]"
      ]
     },
     "execution_count": 212,
     "metadata": {},
     "output_type": "execute_result"
    }
   ],
   "source": [
    "preProcess('train.csv')"
   ]
  },
  {
   "cell_type": "code",
   "execution_count": 227,
   "metadata": {},
   "outputs": [
    {
     "data": {
      "text/plain": [
       "[array([[-1.98502274e-01,  2.24941838e-02,  6.18788686e-02,\n",
       "          4.01898488e-03,  2.37626611e-01,  3.81828103e-01,\n",
       "          2.03213185e-01,  5.90368317e-02,  6.84901732e-02,\n",
       "         -2.48311778e-01, -5.98795477e-01,  5.03964024e+02,\n",
       "          4.68280838e+02,  4.82648638e+02,  4.82648638e+02,\n",
       "          4.57279217e+02,  4.93554158e+02,  4.49338311e+02,\n",
       "          4.93301680e+02,  5.03628032e+02,  4.83678004e+02,\n",
       "          4.78666557e+02,  4.67454694e+02,  4.68839556e+02,\n",
       "          4.83742356e+02,  4.91322221e+02,  4.82478605e+02,\n",
       "          4.60616438e+02,  4.83634403e+02,  4.65476175e+02]]), None]"
      ]
     },
     "execution_count": 227,
     "metadata": {},
     "output_type": "execute_result"
    }
   ],
   "source": [
    "preProcess('st.csv', train = False)"
   ]
  },
  {
   "cell_type": "code",
   "execution_count": 233,
   "metadata": {},
   "outputs": [
    {
     "data": {
      "text/plain": [
       "[array([[-1.98502274e-01,  2.24941838e-02,  6.18788686e-02,\n",
       "          4.01898488e-03,  2.37626611e-01,  3.81828103e-01,\n",
       "          2.03213185e-01,  5.90368317e-02,  6.84901732e-02,\n",
       "         -2.48311778e-01, -5.98795477e-01,  5.03964024e+02,\n",
       "          4.68280838e+02,  4.82648638e+02,  4.82648638e+02,\n",
       "          4.57279217e+02,  4.93554158e+02,  4.49338311e+02,\n",
       "          4.93301680e+02,  5.03628032e+02,  4.83678004e+02,\n",
       "          4.78666557e+02,  4.67454694e+02,             nan,\n",
       "                     nan,             nan,             nan,\n",
       "                     nan,             nan,             nan]]), None]"
      ]
     },
     "execution_count": 233,
     "metadata": {},
     "output_type": "execute_result"
    }
   ],
   "source": [
    "preProcess(df_ = d, train = False)"
   ]
  },
  {
   "cell_type": "code",
   "execution_count": 240,
   "metadata": {},
   "outputs": [],
   "source": [
    "d = pd.read_csv('st.csv', index_col=0)"
   ]
  },
  {
   "cell_type": "code",
   "execution_count": 230,
   "metadata": {},
   "outputs": [
    {
     "data": {
      "text/html": [
       "<div>\n",
       "<style scoped>\n",
       "    .dataframe tbody tr th:only-of-type {\n",
       "        vertical-align: middle;\n",
       "    }\n",
       "\n",
       "    .dataframe tbody tr th {\n",
       "        vertical-align: top;\n",
       "    }\n",
       "\n",
       "    .dataframe thead th {\n",
       "        text-align: right;\n",
       "    }\n",
       "</style>\n",
       "<table border=\"1\" class=\"dataframe\">\n",
       "  <thead>\n",
       "    <tr style=\"text-align: right;\">\n",
       "      <th></th>\n",
       "      <th>SG_UF_RESIDENCIA</th>\n",
       "      <th>NU_IDADE</th>\n",
       "      <th>TP_SEXO</th>\n",
       "      <th>TP_COR_RACA</th>\n",
       "      <th>TP_NACIONALIDADE</th>\n",
       "      <th>TP_ST_CONCLUSAO</th>\n",
       "      <th>TP_ANO_CONCLUIU</th>\n",
       "      <th>TP_ENSINO</th>\n",
       "      <th>TP_DEPENDENCIA_ADM_ESC</th>\n",
       "      <th>CO_PROVA_CH</th>\n",
       "      <th>...</th>\n",
       "      <th>NU_NOTA_COMP5</th>\n",
       "      <th>NU_NOTA_REDACAO</th>\n",
       "      <th>Q001</th>\n",
       "      <th>Q002</th>\n",
       "      <th>Q006</th>\n",
       "      <th>Q024</th>\n",
       "      <th>Q025</th>\n",
       "      <th>Q026</th>\n",
       "      <th>Q027</th>\n",
       "      <th>Q047</th>\n",
       "    </tr>\n",
       "  </thead>\n",
       "  <tbody>\n",
       "    <tr>\n",
       "      <th>0</th>\n",
       "      <td>SP</td>\n",
       "      <td>19.0</td>\n",
       "      <td>F</td>\n",
       "      <td>3</td>\n",
       "      <td>1</td>\n",
       "      <td>1</td>\n",
       "      <td>0.0</td>\n",
       "      <td>1.0</td>\n",
       "      <td>2.0</td>\n",
       "      <td>2d22ac1d42e6187f09ee6c578df187a760123ccf</td>\n",
       "      <td>...</td>\n",
       "      <td>80.0</td>\n",
       "      <td>540.0</td>\n",
       "      <td>B</td>\n",
       "      <td>E</td>\n",
       "      <td>B</td>\n",
       "      <td>B</td>\n",
       "      <td>B</td>\n",
       "      <td>A</td>\n",
       "      <td>F</td>\n",
       "      <td>A</td>\n",
       "    </tr>\n",
       "  </tbody>\n",
       "</table>\n",
       "<p>1 rows × 30 columns</p>\n",
       "</div>"
      ],
      "text/plain": [
       "  SG_UF_RESIDENCIA  NU_IDADE TP_SEXO  TP_COR_RACA  TP_NACIONALIDADE  \\\n",
       "0               SP      19.0       F            3                 1   \n",
       "\n",
       "   TP_ST_CONCLUSAO  TP_ANO_CONCLUIU  TP_ENSINO  TP_DEPENDENCIA_ADM_ESC  \\\n",
       "0                1              0.0        1.0                     2.0   \n",
       "\n",
       "                                CO_PROVA_CH  ... NU_NOTA_COMP5  \\\n",
       "0  2d22ac1d42e6187f09ee6c578df187a760123ccf  ...          80.0   \n",
       "\n",
       "   NU_NOTA_REDACAO  Q001  Q002  Q006  Q024  Q025  Q026  Q027  Q047  \n",
       "0            540.0     B     E     B     B     B     A     F     A  \n",
       "\n",
       "[1 rows x 30 columns]"
      ]
     },
     "execution_count": 230,
     "metadata": {},
     "output_type": "execute_result"
    }
   ],
   "source": [
    "d"
   ]
  },
  {
   "cell_type": "code",
   "execution_count": 236,
   "metadata": {},
   "outputs": [],
   "source": [
    "from io import StringIO"
   ]
  },
  {
   "cell_type": "code",
   "execution_count": null,
   "metadata": {},
   "outputs": [],
   "source": []
  },
  {
   "cell_type": "code",
   "execution_count": 238,
   "metadata": {},
   "outputs": [
    {
     "data": {
      "text/html": [
       "<div>\n",
       "<style scoped>\n",
       "    .dataframe tbody tr th:only-of-type {\n",
       "        vertical-align: middle;\n",
       "    }\n",
       "\n",
       "    .dataframe tbody tr th {\n",
       "        vertical-align: top;\n",
       "    }\n",
       "\n",
       "    .dataframe thead th {\n",
       "        text-align: right;\n",
       "    }\n",
       "</style>\n",
       "<table border=\"1\" class=\"dataframe\">\n",
       "  <thead>\n",
       "    <tr style=\"text-align: right;\">\n",
       "      <th></th>\n",
       "      <th>SG_UF_RESIDENCIA  NU_IDADE TP_SEXO TP_COR_RACA TP_NACIONALIDADE TP_ST_CONCLUSAO  TP_ANO_CONCLUIU TP_ENSINO TP_DEPENDENCIA_ADM_ESC                               CO_PROVA_CH                               CO_PROVA_MT  NU_NOTA_CN  NU_NOTA_CH  NU_NOTA_LC TP_LINGUA TP_STATUS_REDACAO  NU_NOTA_COMP1  NU_NOTA_COMP2  NU_NOTA_COMP3  NU_NOTA_COMP4  NU_NOTA_COMP5  NU_NOTA_REDACAO Q001 Q002 Q006 Q024 Q025 Q026 Q027 Q047</th>\n",
       "    </tr>\n",
       "  </thead>\n",
       "  <tbody>\n",
       "    <tr>\n",
       "      <th>0</th>\n",
       "      <td>0               SP      19.0       F          ...</td>\n",
       "    </tr>\n",
       "  </tbody>\n",
       "</table>\n",
       "</div>"
      ],
      "text/plain": [
       "    SG_UF_RESIDENCIA  NU_IDADE TP_SEXO TP_COR_RACA TP_NACIONALIDADE TP_ST_CONCLUSAO  TP_ANO_CONCLUIU TP_ENSINO TP_DEPENDENCIA_ADM_ESC                               CO_PROVA_CH                               CO_PROVA_MT  NU_NOTA_CN  NU_NOTA_CH  NU_NOTA_LC TP_LINGUA TP_STATUS_REDACAO  NU_NOTA_COMP1  NU_NOTA_COMP2  NU_NOTA_COMP3  NU_NOTA_COMP4  NU_NOTA_COMP5  NU_NOTA_REDACAO Q001 Q002 Q006 Q024 Q025 Q026 Q027 Q047\n",
       "0  0               SP      19.0       F          ...                                                                                                                                                                                                                                                                                                                                                                         "
      ]
     },
     "execution_count": 238,
     "metadata": {},
     "output_type": "execute_result"
    }
   ],
   "source": [
    "pd.read_csv(StringIO(d.to_string()), sep=\";\")"
   ]
  },
  {
   "cell_type": "code",
   "execution_count": 239,
   "metadata": {},
   "outputs": [
    {
     "data": {
      "text/plain": [
       "'  SG_UF_RESIDENCIA  NU_IDADE TP_SEXO TP_COR_RACA TP_NACIONALIDADE TP_ST_CONCLUSAO  TP_ANO_CONCLUIU TP_ENSINO TP_DEPENDENCIA_ADM_ESC                               CO_PROVA_CH                               CO_PROVA_MT  NU_NOTA_CN  NU_NOTA_CH  NU_NOTA_LC TP_LINGUA TP_STATUS_REDACAO  NU_NOTA_COMP1  NU_NOTA_COMP2  NU_NOTA_COMP3  NU_NOTA_COMP4  NU_NOTA_COMP5  NU_NOTA_REDACAO Q001 Q002 Q006 Q024 Q025 Q026 Q027 Q047\\n0               SP      19.0       F           3                1               1              0.0       1.0                    2.0  2d22ac1d42e6187f09ee6c578df187a760123ccf  2d22ac1d42e6187f09ee6c578df187a760123ccf       459.8       532.0       520.9         1               1.0          120.0          120.0          120.0          120.0           80.0            540.0    B    E    B    B    B    A    F    A'"
      ]
     },
     "execution_count": 239,
     "metadata": {},
     "output_type": "execute_result"
    }
   ],
   "source": [
    "d.to_string()"
   ]
  },
  {
   "cell_type": "code",
   "execution_count": 246,
   "metadata": {},
   "outputs": [],
   "source": [
    "e = pd.read_pickle('st.pkl')"
   ]
  },
  {
   "cell_type": "code",
   "execution_count": 247,
   "metadata": {},
   "outputs": [
    {
     "data": {
      "text/plain": [
       "SG_UF_RESIDENCIA           object\n",
       "NU_IDADE                  float64\n",
       "TP_SEXO                    object\n",
       "TP_COR_RACA                 int64\n",
       "TP_NACIONALIDADE            int64\n",
       "TP_ST_CONCLUSAO             int64\n",
       "TP_ANO_CONCLUIU           float64\n",
       "TP_ENSINO                 float64\n",
       "TP_DEPENDENCIA_ADM_ESC    float64\n",
       "CO_PROVA_CH                object\n",
       "CO_PROVA_MT                object\n",
       "NU_NOTA_CN                float64\n",
       "NU_NOTA_CH                float64\n",
       "NU_NOTA_LC                float64\n",
       "TP_LINGUA                   int64\n",
       "TP_STATUS_REDACAO         float64\n",
       "NU_NOTA_COMP1             float64\n",
       "NU_NOTA_COMP2             float64\n",
       "NU_NOTA_COMP3             float64\n",
       "NU_NOTA_COMP4             float64\n",
       "NU_NOTA_COMP5             float64\n",
       "NU_NOTA_REDACAO           float64\n",
       "Q001                       object\n",
       "Q002                       object\n",
       "Q006                       object\n",
       "Q024                       object\n",
       "Q025                       object\n",
       "Q026                       object\n",
       "Q027                       object\n",
       "Q047                       object\n",
       "dtype: object"
      ]
     },
     "execution_count": 247,
     "metadata": {},
     "output_type": "execute_result"
    }
   ],
   "source": [
    "d.dtypes"
   ]
  },
  {
   "cell_type": "code",
   "execution_count": 248,
   "metadata": {},
   "outputs": [
    {
     "data": {
      "text/plain": [
       "SG_UF_RESIDENCIA           object\n",
       "NU_IDADE                  float64\n",
       "TP_SEXO                    object\n",
       "TP_COR_RACA                 int64\n",
       "TP_NACIONALIDADE            int64\n",
       "TP_ST_CONCLUSAO             int64\n",
       "TP_ANO_CONCLUIU           float64\n",
       "TP_ENSINO                  object\n",
       "TP_DEPENDENCIA_ADM_ESC     object\n",
       "CO_PROVA_CH                object\n",
       "CO_PROVA_MT                object\n",
       "NU_NOTA_CN                float64\n",
       "NU_NOTA_CH                float64\n",
       "NU_NOTA_LC                float64\n",
       "TP_LINGUA                   int64\n",
       "TP_STATUS_REDACAO          object\n",
       "NU_NOTA_COMP1             float64\n",
       "NU_NOTA_COMP2             float64\n",
       "NU_NOTA_COMP3             float64\n",
       "NU_NOTA_COMP4             float64\n",
       "NU_NOTA_COMP5             float64\n",
       "NU_NOTA_REDACAO           float64\n",
       "Q001                       object\n",
       "Q002                       object\n",
       "Q006                       object\n",
       "Q024                       object\n",
       "Q025                       object\n",
       "Q026                       object\n",
       "Q027                       object\n",
       "Q047                       object\n",
       "dtype: object"
      ]
     },
     "execution_count": 248,
     "metadata": {},
     "output_type": "execute_result"
    }
   ],
   "source": [
    "e.dtypes"
   ]
  },
  {
   "cell_type": "code",
   "execution_count": 249,
   "metadata": {},
   "outputs": [
    {
     "data": {
      "text/plain": [
       "SG_UF_RESIDENCIA          False\n",
       "NU_IDADE                  False\n",
       "TP_SEXO                   False\n",
       "TP_COR_RACA               False\n",
       "TP_NACIONALIDADE          False\n",
       "TP_ST_CONCLUSAO           False\n",
       "TP_ANO_CONCLUIU           False\n",
       "TP_ENSINO                  True\n",
       "TP_DEPENDENCIA_ADM_ESC     True\n",
       "CO_PROVA_CH               False\n",
       "CO_PROVA_MT               False\n",
       "NU_NOTA_CN                False\n",
       "NU_NOTA_CH                False\n",
       "NU_NOTA_LC                False\n",
       "TP_LINGUA                 False\n",
       "TP_STATUS_REDACAO          True\n",
       "NU_NOTA_COMP1             False\n",
       "NU_NOTA_COMP2             False\n",
       "NU_NOTA_COMP3             False\n",
       "NU_NOTA_COMP4             False\n",
       "NU_NOTA_COMP5             False\n",
       "NU_NOTA_REDACAO           False\n",
       "Q001                      False\n",
       "Q002                      False\n",
       "Q006                      False\n",
       "Q024                      False\n",
       "Q025                      False\n",
       "Q026                      False\n",
       "Q027                      False\n",
       "Q047                      False\n",
       "dtype: bool"
      ]
     },
     "execution_count": 249,
     "metadata": {},
     "output_type": "execute_result"
    }
   ],
   "source": [
    "d.dtypes != e.dtypes"
   ]
  },
  {
   "cell_type": "code",
   "execution_count": null,
   "metadata": {},
   "outputs": [],
   "source": []
  }
 ],
 "metadata": {
  "kernelspec": {
   "display_name": "Python 3",
   "language": "python",
   "name": "python3"
  },
  "language_info": {
   "codemirror_mode": {
    "name": "ipython",
    "version": 3
   },
   "file_extension": ".py",
   "mimetype": "text/x-python",
   "name": "python",
   "nbconvert_exporter": "python",
   "pygments_lexer": "ipython3",
   "version": "3.7.0"
  }
 },
 "nbformat": 4,
 "nbformat_minor": 4
}
